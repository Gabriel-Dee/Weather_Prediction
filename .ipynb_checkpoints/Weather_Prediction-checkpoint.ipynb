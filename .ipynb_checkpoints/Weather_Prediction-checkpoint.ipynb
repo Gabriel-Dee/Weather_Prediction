{
 "cells": [
  {
   "cell_type": "markdown",
   "id": "0f0e1460",
   "metadata": {},
   "source": [
    "# Weather Prediction Project\n",
    "\n",
    "## Introduction\n",
    "This project focuses on predicting weather patterns using machine learning techniques. By analyzing historical weather data and employing advanced algorithms, we aim to forecast weather conditions for a given location.\n",
    "\n",
    "## Dataset\n",
    "The project utilizes a comprehensive weather dataset containing various meteorological parameters such as temperature, humidity, wind speed, precipitation, and atmospheric pressure. The dataset covers a significant period, allowing us to capture seasonal and long-term weather patterns.\n",
    "\n",
    "## Methodology\n",
    "We follow a data-driven approach to develop accurate weather prediction models. The project involves the following steps:\n",
    "\n",
    "1. Data Preprocessing: We clean and preprocess the dataset by handling missing values, normalizing data, and performing feature engineering to extract relevant weather features.\n",
    "\n",
    "2. Exploratory Data Analysis: We conduct a thorough analysis of the dataset to identify patterns, correlations, and trends in the weather data. This analysis helps us gain insights into the underlying factors influencing weather conditions.\n",
    "\n",
    "3. Model Development: We employ machine learning algorithms such as regression, time series analysis, and ensemble methods to train predictive models. These models learn from the historical weather data and generate forecasts based on input features.\n",
    "\n",
    "4. Model Evaluation: We assess the performance of the developed models using appropriate evaluation metrics. This step ensures that our predictions are reliable and accurate.\n",
    "\n",
    "5. Visualization: We use visualizations such as graphs, charts, and maps to present the predicted weather patterns effectively. These visual representations aid in understanding the predicted weather conditions visually.\n",
    "\n",
    "## Results and Conclusion\n",
    "The project aims to provide accurate weather predictions that can assist various stakeholders, including meteorologists, planners, and individuals planning outdoor activities. By leveraging machine learning techniques, we strive to enhance weather forecasting accuracy and contribute to improved decision-making in various weather-dependent domains.\n",
    "\n",
    "Stay tuned for the exciting insights and predictions generated through our weather prediction project!\n"
   ]
  },
  {
   "cell_type": "code",
   "execution_count": 1,
   "id": "75798c62",
   "metadata": {},
   "outputs": [],
   "source": [
    "import pandas as pd\n",
    "\n",
    "weather = pd.read_csv(\"Weather.csv\", index_col=\"DATE\")"
   ]
  },
  {
   "cell_type": "code",
   "execution_count": 2,
   "id": "6314741d",
   "metadata": {},
   "outputs": [
    {
     "data": {
      "text/html": [
       "<div>\n",
       "<style scoped>\n",
       "    .dataframe tbody tr th:only-of-type {\n",
       "        vertical-align: middle;\n",
       "    }\n",
       "\n",
       "    .dataframe tbody tr th {\n",
       "        vertical-align: top;\n",
       "    }\n",
       "\n",
       "    .dataframe thead th {\n",
       "        text-align: right;\n",
       "    }\n",
       "</style>\n",
       "<table border=\"1\" class=\"dataframe\">\n",
       "  <thead>\n",
       "    <tr style=\"text-align: right;\">\n",
       "      <th></th>\n",
       "      <th>STATION</th>\n",
       "      <th>NAME</th>\n",
       "      <th>LATITUDE</th>\n",
       "      <th>LONGITUDE</th>\n",
       "      <th>ELEVATION</th>\n",
       "      <th>PRCP</th>\n",
       "      <th>PRCP_ATTRIBUTES</th>\n",
       "      <th>TAVG</th>\n",
       "      <th>TAVG_ATTRIBUTES</th>\n",
       "      <th>TMAX</th>\n",
       "      <th>TMAX_ATTRIBUTES</th>\n",
       "      <th>TMIN</th>\n",
       "      <th>TMIN_ATTRIBUTES</th>\n",
       "    </tr>\n",
       "    <tr>\n",
       "      <th>DATE</th>\n",
       "      <th></th>\n",
       "      <th></th>\n",
       "      <th></th>\n",
       "      <th></th>\n",
       "      <th></th>\n",
       "      <th></th>\n",
       "      <th></th>\n",
       "      <th></th>\n",
       "      <th></th>\n",
       "      <th></th>\n",
       "      <th></th>\n",
       "      <th></th>\n",
       "      <th></th>\n",
       "    </tr>\n",
       "  </thead>\n",
       "  <tbody>\n",
       "    <tr>\n",
       "      <th>1987-01-01</th>\n",
       "      <td>TZ000063894</td>\n",
       "      <td>DAR ES SALAAM AIRPORT, TZ</td>\n",
       "      <td>-6.867</td>\n",
       "      <td>39.2</td>\n",
       "      <td>53.0</td>\n",
       "      <td>NaN</td>\n",
       "      <td>NaN</td>\n",
       "      <td>83</td>\n",
       "      <td>H,,S</td>\n",
       "      <td>92.0</td>\n",
       "      <td>,,S</td>\n",
       "      <td>NaN</td>\n",
       "      <td>NaN</td>\n",
       "    </tr>\n",
       "    <tr>\n",
       "      <th>1987-01-02</th>\n",
       "      <td>TZ000063894</td>\n",
       "      <td>DAR ES SALAAM AIRPORT, TZ</td>\n",
       "      <td>-6.867</td>\n",
       "      <td>39.2</td>\n",
       "      <td>53.0</td>\n",
       "      <td>0.00</td>\n",
       "      <td>D,,S</td>\n",
       "      <td>84</td>\n",
       "      <td>H,,S</td>\n",
       "      <td>93.0</td>\n",
       "      <td>,,S</td>\n",
       "      <td>76.0</td>\n",
       "      <td>,,S</td>\n",
       "    </tr>\n",
       "    <tr>\n",
       "      <th>1987-01-03</th>\n",
       "      <td>TZ000063894</td>\n",
       "      <td>DAR ES SALAAM AIRPORT, TZ</td>\n",
       "      <td>-6.867</td>\n",
       "      <td>39.2</td>\n",
       "      <td>53.0</td>\n",
       "      <td>NaN</td>\n",
       "      <td>NaN</td>\n",
       "      <td>82</td>\n",
       "      <td>H,,S</td>\n",
       "      <td>NaN</td>\n",
       "      <td>NaN</td>\n",
       "      <td>NaN</td>\n",
       "      <td>NaN</td>\n",
       "    </tr>\n",
       "    <tr>\n",
       "      <th>1987-01-04</th>\n",
       "      <td>TZ000063894</td>\n",
       "      <td>DAR ES SALAAM AIRPORT, TZ</td>\n",
       "      <td>-6.867</td>\n",
       "      <td>39.2</td>\n",
       "      <td>53.0</td>\n",
       "      <td>0.04</td>\n",
       "      <td>,,S</td>\n",
       "      <td>85</td>\n",
       "      <td>H,,S</td>\n",
       "      <td>92.0</td>\n",
       "      <td>,,S</td>\n",
       "      <td>74.0</td>\n",
       "      <td>,,S</td>\n",
       "    </tr>\n",
       "    <tr>\n",
       "      <th>1987-01-05</th>\n",
       "      <td>TZ000063894</td>\n",
       "      <td>DAR ES SALAAM AIRPORT, TZ</td>\n",
       "      <td>-6.867</td>\n",
       "      <td>39.2</td>\n",
       "      <td>53.0</td>\n",
       "      <td>0.00</td>\n",
       "      <td>,,S</td>\n",
       "      <td>82</td>\n",
       "      <td>H,,S</td>\n",
       "      <td>90.0</td>\n",
       "      <td>,,S</td>\n",
       "      <td>72.0</td>\n",
       "      <td>,,S</td>\n",
       "    </tr>\n",
       "    <tr>\n",
       "      <th>...</th>\n",
       "      <td>...</td>\n",
       "      <td>...</td>\n",
       "      <td>...</td>\n",
       "      <td>...</td>\n",
       "      <td>...</td>\n",
       "      <td>...</td>\n",
       "      <td>...</td>\n",
       "      <td>...</td>\n",
       "      <td>...</td>\n",
       "      <td>...</td>\n",
       "      <td>...</td>\n",
       "      <td>...</td>\n",
       "      <td>...</td>\n",
       "    </tr>\n",
       "    <tr>\n",
       "      <th>2023-06-07</th>\n",
       "      <td>TZ000063894</td>\n",
       "      <td>DAR ES SALAAM AIRPORT, TZ</td>\n",
       "      <td>-6.867</td>\n",
       "      <td>39.2</td>\n",
       "      <td>53.0</td>\n",
       "      <td>0.00</td>\n",
       "      <td>,,S</td>\n",
       "      <td>75</td>\n",
       "      <td>H,,S</td>\n",
       "      <td>81.0</td>\n",
       "      <td>,,S</td>\n",
       "      <td>71.0</td>\n",
       "      <td>,,S</td>\n",
       "    </tr>\n",
       "    <tr>\n",
       "      <th>2023-06-08</th>\n",
       "      <td>TZ000063894</td>\n",
       "      <td>DAR ES SALAAM AIRPORT, TZ</td>\n",
       "      <td>-6.867</td>\n",
       "      <td>39.2</td>\n",
       "      <td>53.0</td>\n",
       "      <td>0.15</td>\n",
       "      <td>,,S</td>\n",
       "      <td>76</td>\n",
       "      <td>H,,S</td>\n",
       "      <td>83.0</td>\n",
       "      <td>,,S</td>\n",
       "      <td>72.0</td>\n",
       "      <td>,,S</td>\n",
       "    </tr>\n",
       "    <tr>\n",
       "      <th>2023-06-09</th>\n",
       "      <td>TZ000063894</td>\n",
       "      <td>DAR ES SALAAM AIRPORT, TZ</td>\n",
       "      <td>-6.867</td>\n",
       "      <td>39.2</td>\n",
       "      <td>53.0</td>\n",
       "      <td>0.06</td>\n",
       "      <td>,,S</td>\n",
       "      <td>78</td>\n",
       "      <td>H,,S</td>\n",
       "      <td>87.0</td>\n",
       "      <td>,,S</td>\n",
       "      <td>NaN</td>\n",
       "      <td>NaN</td>\n",
       "    </tr>\n",
       "    <tr>\n",
       "      <th>2023-06-10</th>\n",
       "      <td>TZ000063894</td>\n",
       "      <td>DAR ES SALAAM AIRPORT, TZ</td>\n",
       "      <td>-6.867</td>\n",
       "      <td>39.2</td>\n",
       "      <td>53.0</td>\n",
       "      <td>0.00</td>\n",
       "      <td>,,S</td>\n",
       "      <td>79</td>\n",
       "      <td>H,,S</td>\n",
       "      <td>89.0</td>\n",
       "      <td>,,S</td>\n",
       "      <td>72.0</td>\n",
       "      <td>,,S</td>\n",
       "    </tr>\n",
       "    <tr>\n",
       "      <th>2023-06-11</th>\n",
       "      <td>TZ000063894</td>\n",
       "      <td>DAR ES SALAAM AIRPORT, TZ</td>\n",
       "      <td>-6.867</td>\n",
       "      <td>39.2</td>\n",
       "      <td>53.0</td>\n",
       "      <td>NaN</td>\n",
       "      <td>NaN</td>\n",
       "      <td>78</td>\n",
       "      <td>H,,S</td>\n",
       "      <td>89.0</td>\n",
       "      <td>,,S</td>\n",
       "      <td>NaN</td>\n",
       "      <td>NaN</td>\n",
       "    </tr>\n",
       "  </tbody>\n",
       "</table>\n",
       "<p>12161 rows × 13 columns</p>\n",
       "</div>"
      ],
      "text/plain": [
       "                STATION                       NAME  LATITUDE  LONGITUDE  \\\n",
       "DATE                                                                      \n",
       "1987-01-01  TZ000063894  DAR ES SALAAM AIRPORT, TZ    -6.867       39.2   \n",
       "1987-01-02  TZ000063894  DAR ES SALAAM AIRPORT, TZ    -6.867       39.2   \n",
       "1987-01-03  TZ000063894  DAR ES SALAAM AIRPORT, TZ    -6.867       39.2   \n",
       "1987-01-04  TZ000063894  DAR ES SALAAM AIRPORT, TZ    -6.867       39.2   \n",
       "1987-01-05  TZ000063894  DAR ES SALAAM AIRPORT, TZ    -6.867       39.2   \n",
       "...                 ...                        ...       ...        ...   \n",
       "2023-06-07  TZ000063894  DAR ES SALAAM AIRPORT, TZ    -6.867       39.2   \n",
       "2023-06-08  TZ000063894  DAR ES SALAAM AIRPORT, TZ    -6.867       39.2   \n",
       "2023-06-09  TZ000063894  DAR ES SALAAM AIRPORT, TZ    -6.867       39.2   \n",
       "2023-06-10  TZ000063894  DAR ES SALAAM AIRPORT, TZ    -6.867       39.2   \n",
       "2023-06-11  TZ000063894  DAR ES SALAAM AIRPORT, TZ    -6.867       39.2   \n",
       "\n",
       "            ELEVATION  PRCP PRCP_ATTRIBUTES  TAVG TAVG_ATTRIBUTES  TMAX  \\\n",
       "DATE                                                                      \n",
       "1987-01-01       53.0   NaN             NaN    83            H,,S  92.0   \n",
       "1987-01-02       53.0  0.00            D,,S    84            H,,S  93.0   \n",
       "1987-01-03       53.0   NaN             NaN    82            H,,S   NaN   \n",
       "1987-01-04       53.0  0.04             ,,S    85            H,,S  92.0   \n",
       "1987-01-05       53.0  0.00             ,,S    82            H,,S  90.0   \n",
       "...               ...   ...             ...   ...             ...   ...   \n",
       "2023-06-07       53.0  0.00             ,,S    75            H,,S  81.0   \n",
       "2023-06-08       53.0  0.15             ,,S    76            H,,S  83.0   \n",
       "2023-06-09       53.0  0.06             ,,S    78            H,,S  87.0   \n",
       "2023-06-10       53.0  0.00             ,,S    79            H,,S  89.0   \n",
       "2023-06-11       53.0   NaN             NaN    78            H,,S  89.0   \n",
       "\n",
       "           TMAX_ATTRIBUTES  TMIN TMIN_ATTRIBUTES  \n",
       "DATE                                              \n",
       "1987-01-01             ,,S   NaN             NaN  \n",
       "1987-01-02             ,,S  76.0             ,,S  \n",
       "1987-01-03             NaN   NaN             NaN  \n",
       "1987-01-04             ,,S  74.0             ,,S  \n",
       "1987-01-05             ,,S  72.0             ,,S  \n",
       "...                    ...   ...             ...  \n",
       "2023-06-07             ,,S  71.0             ,,S  \n",
       "2023-06-08             ,,S  72.0             ,,S  \n",
       "2023-06-09             ,,S   NaN             NaN  \n",
       "2023-06-10             ,,S  72.0             ,,S  \n",
       "2023-06-11             ,,S   NaN             NaN  \n",
       "\n",
       "[12161 rows x 13 columns]"
      ]
     },
     "execution_count": 2,
     "metadata": {},
     "output_type": "execute_result"
    }
   ],
   "source": [
    "weather"
   ]
  },
  {
   "cell_type": "markdown",
   "id": "c054b95b",
   "metadata": {},
   "source": [
    "### Data Preprocessing: We clean and preprocess the dataset by handling missing values, normalizing data, and performing feature engineering to extract relevant weather features."
   ]
  },
  {
   "cell_type": "markdown",
   "id": "6e7f2ab2",
   "metadata": {},
   "source": [
    "##### First The percentage of missing Data is Calculated"
   ]
  },
  {
   "cell_type": "code",
   "execution_count": 3,
   "id": "37476356",
   "metadata": {},
   "outputs": [],
   "source": [
    "null_pcnt = weather.apply(pd.isnull).sum()/weather.shape[0]"
   ]
  },
  {
   "cell_type": "code",
   "execution_count": 4,
   "id": "ce62c501",
   "metadata": {},
   "outputs": [
    {
     "data": {
      "text/plain": [
       "STATION             0.000000\n",
       "NAME                0.000000\n",
       "LATITUDE            0.000000\n",
       "LONGITUDE           0.000000\n",
       "ELEVATION           0.000000\n",
       "PRCP               47.101390\n",
       "PRCP_ATTRIBUTES    47.101390\n",
       "TAVG                0.000000\n",
       "TAVG_ATTRIBUTES     0.000000\n",
       "TMAX               40.736782\n",
       "TMAX_ATTRIBUTES    40.736782\n",
       "TMIN               47.010937\n",
       "TMIN_ATTRIBUTES    47.010937\n",
       "dtype: float64"
      ]
     },
     "execution_count": 4,
     "metadata": {},
     "output_type": "execute_result"
    }
   ],
   "source": [
    "null_pcnt*100"
   ]
  },
  {
   "cell_type": "markdown",
   "id": "38cff1c2",
   "metadata": {},
   "source": [
    "##### So, from the above results the columns with null values are;\n",
    "* Precipitation Column - by 47%\n",
    "* Precipitation attributes column - by 47%\n",
    "* Maximum Temperature Column - by 40%\n",
    "* Maximum Temperature attributes Column - by 40%\n",
    "* Minimum Temperature Column - by 47%\n",
    "* Minimum Temperature attributes Column - by 47%"
   ]
  },
  {
   "cell_type": "markdown",
   "id": "54ff9ba7",
   "metadata": {},
   "source": [
    "##### Next step is to extract columns with less than 5% missing values, these are going to be the valid columns for the job, And by doing so the above columns are going to be eliminated."
   ]
  },
  {
   "cell_type": "code",
   "execution_count": 5,
   "id": "5675dfd7",
   "metadata": {},
   "outputs": [],
   "source": [
    "valid_columns = weather.columns[null_pcnt < 0.05]"
   ]
  },
  {
   "cell_type": "code",
   "execution_count": 6,
   "id": "d8d22e16",
   "metadata": {},
   "outputs": [
    {
     "data": {
      "text/plain": [
       "Index(['STATION', 'NAME', 'LATITUDE', 'LONGITUDE', 'ELEVATION', 'TAVG',\n",
       "       'TAVG_ATTRIBUTES'],\n",
       "      dtype='object')"
      ]
     },
     "execution_count": 6,
     "metadata": {},
     "output_type": "execute_result"
    }
   ],
   "source": [
    "valid_columns"
   ]
  },
  {
   "cell_type": "markdown",
   "id": "0702bdab",
   "metadata": {},
   "source": [
    "##### Next is to modify our dataset so that it only contains the valid columns. "
   ]
  },
  {
   "cell_type": "code",
   "execution_count": 7,
   "id": "8b758e79",
   "metadata": {},
   "outputs": [],
   "source": [
    "weather = weather[valid_columns].copy()"
   ]
  },
  {
   "cell_type": "code",
   "execution_count": 8,
   "id": "972d5034",
   "metadata": {},
   "outputs": [
    {
     "data": {
      "text/html": [
       "<div>\n",
       "<style scoped>\n",
       "    .dataframe tbody tr th:only-of-type {\n",
       "        vertical-align: middle;\n",
       "    }\n",
       "\n",
       "    .dataframe tbody tr th {\n",
       "        vertical-align: top;\n",
       "    }\n",
       "\n",
       "    .dataframe thead th {\n",
       "        text-align: right;\n",
       "    }\n",
       "</style>\n",
       "<table border=\"1\" class=\"dataframe\">\n",
       "  <thead>\n",
       "    <tr style=\"text-align: right;\">\n",
       "      <th></th>\n",
       "      <th>STATION</th>\n",
       "      <th>NAME</th>\n",
       "      <th>LATITUDE</th>\n",
       "      <th>LONGITUDE</th>\n",
       "      <th>ELEVATION</th>\n",
       "      <th>TAVG</th>\n",
       "      <th>TAVG_ATTRIBUTES</th>\n",
       "    </tr>\n",
       "    <tr>\n",
       "      <th>DATE</th>\n",
       "      <th></th>\n",
       "      <th></th>\n",
       "      <th></th>\n",
       "      <th></th>\n",
       "      <th></th>\n",
       "      <th></th>\n",
       "      <th></th>\n",
       "    </tr>\n",
       "  </thead>\n",
       "  <tbody>\n",
       "    <tr>\n",
       "      <th>1987-01-01</th>\n",
       "      <td>TZ000063894</td>\n",
       "      <td>DAR ES SALAAM AIRPORT, TZ</td>\n",
       "      <td>-6.867</td>\n",
       "      <td>39.2</td>\n",
       "      <td>53.0</td>\n",
       "      <td>83</td>\n",
       "      <td>H,,S</td>\n",
       "    </tr>\n",
       "    <tr>\n",
       "      <th>1987-01-02</th>\n",
       "      <td>TZ000063894</td>\n",
       "      <td>DAR ES SALAAM AIRPORT, TZ</td>\n",
       "      <td>-6.867</td>\n",
       "      <td>39.2</td>\n",
       "      <td>53.0</td>\n",
       "      <td>84</td>\n",
       "      <td>H,,S</td>\n",
       "    </tr>\n",
       "    <tr>\n",
       "      <th>1987-01-03</th>\n",
       "      <td>TZ000063894</td>\n",
       "      <td>DAR ES SALAAM AIRPORT, TZ</td>\n",
       "      <td>-6.867</td>\n",
       "      <td>39.2</td>\n",
       "      <td>53.0</td>\n",
       "      <td>82</td>\n",
       "      <td>H,,S</td>\n",
       "    </tr>\n",
       "    <tr>\n",
       "      <th>1987-01-04</th>\n",
       "      <td>TZ000063894</td>\n",
       "      <td>DAR ES SALAAM AIRPORT, TZ</td>\n",
       "      <td>-6.867</td>\n",
       "      <td>39.2</td>\n",
       "      <td>53.0</td>\n",
       "      <td>85</td>\n",
       "      <td>H,,S</td>\n",
       "    </tr>\n",
       "    <tr>\n",
       "      <th>1987-01-05</th>\n",
       "      <td>TZ000063894</td>\n",
       "      <td>DAR ES SALAAM AIRPORT, TZ</td>\n",
       "      <td>-6.867</td>\n",
       "      <td>39.2</td>\n",
       "      <td>53.0</td>\n",
       "      <td>82</td>\n",
       "      <td>H,,S</td>\n",
       "    </tr>\n",
       "    <tr>\n",
       "      <th>...</th>\n",
       "      <td>...</td>\n",
       "      <td>...</td>\n",
       "      <td>...</td>\n",
       "      <td>...</td>\n",
       "      <td>...</td>\n",
       "      <td>...</td>\n",
       "      <td>...</td>\n",
       "    </tr>\n",
       "    <tr>\n",
       "      <th>2023-06-07</th>\n",
       "      <td>TZ000063894</td>\n",
       "      <td>DAR ES SALAAM AIRPORT, TZ</td>\n",
       "      <td>-6.867</td>\n",
       "      <td>39.2</td>\n",
       "      <td>53.0</td>\n",
       "      <td>75</td>\n",
       "      <td>H,,S</td>\n",
       "    </tr>\n",
       "    <tr>\n",
       "      <th>2023-06-08</th>\n",
       "      <td>TZ000063894</td>\n",
       "      <td>DAR ES SALAAM AIRPORT, TZ</td>\n",
       "      <td>-6.867</td>\n",
       "      <td>39.2</td>\n",
       "      <td>53.0</td>\n",
       "      <td>76</td>\n",
       "      <td>H,,S</td>\n",
       "    </tr>\n",
       "    <tr>\n",
       "      <th>2023-06-09</th>\n",
       "      <td>TZ000063894</td>\n",
       "      <td>DAR ES SALAAM AIRPORT, TZ</td>\n",
       "      <td>-6.867</td>\n",
       "      <td>39.2</td>\n",
       "      <td>53.0</td>\n",
       "      <td>78</td>\n",
       "      <td>H,,S</td>\n",
       "    </tr>\n",
       "    <tr>\n",
       "      <th>2023-06-10</th>\n",
       "      <td>TZ000063894</td>\n",
       "      <td>DAR ES SALAAM AIRPORT, TZ</td>\n",
       "      <td>-6.867</td>\n",
       "      <td>39.2</td>\n",
       "      <td>53.0</td>\n",
       "      <td>79</td>\n",
       "      <td>H,,S</td>\n",
       "    </tr>\n",
       "    <tr>\n",
       "      <th>2023-06-11</th>\n",
       "      <td>TZ000063894</td>\n",
       "      <td>DAR ES SALAAM AIRPORT, TZ</td>\n",
       "      <td>-6.867</td>\n",
       "      <td>39.2</td>\n",
       "      <td>53.0</td>\n",
       "      <td>78</td>\n",
       "      <td>H,,S</td>\n",
       "    </tr>\n",
       "  </tbody>\n",
       "</table>\n",
       "<p>12161 rows × 7 columns</p>\n",
       "</div>"
      ],
      "text/plain": [
       "                STATION                       NAME  LATITUDE  LONGITUDE  \\\n",
       "DATE                                                                      \n",
       "1987-01-01  TZ000063894  DAR ES SALAAM AIRPORT, TZ    -6.867       39.2   \n",
       "1987-01-02  TZ000063894  DAR ES SALAAM AIRPORT, TZ    -6.867       39.2   \n",
       "1987-01-03  TZ000063894  DAR ES SALAAM AIRPORT, TZ    -6.867       39.2   \n",
       "1987-01-04  TZ000063894  DAR ES SALAAM AIRPORT, TZ    -6.867       39.2   \n",
       "1987-01-05  TZ000063894  DAR ES SALAAM AIRPORT, TZ    -6.867       39.2   \n",
       "...                 ...                        ...       ...        ...   \n",
       "2023-06-07  TZ000063894  DAR ES SALAAM AIRPORT, TZ    -6.867       39.2   \n",
       "2023-06-08  TZ000063894  DAR ES SALAAM AIRPORT, TZ    -6.867       39.2   \n",
       "2023-06-09  TZ000063894  DAR ES SALAAM AIRPORT, TZ    -6.867       39.2   \n",
       "2023-06-10  TZ000063894  DAR ES SALAAM AIRPORT, TZ    -6.867       39.2   \n",
       "2023-06-11  TZ000063894  DAR ES SALAAM AIRPORT, TZ    -6.867       39.2   \n",
       "\n",
       "            ELEVATION  TAVG TAVG_ATTRIBUTES  \n",
       "DATE                                         \n",
       "1987-01-01       53.0    83            H,,S  \n",
       "1987-01-02       53.0    84            H,,S  \n",
       "1987-01-03       53.0    82            H,,S  \n",
       "1987-01-04       53.0    85            H,,S  \n",
       "1987-01-05       53.0    82            H,,S  \n",
       "...               ...   ...             ...  \n",
       "2023-06-07       53.0    75            H,,S  \n",
       "2023-06-08       53.0    76            H,,S  \n",
       "2023-06-09       53.0    78            H,,S  \n",
       "2023-06-10       53.0    79            H,,S  \n",
       "2023-06-11       53.0    78            H,,S  \n",
       "\n",
       "[12161 rows x 7 columns]"
      ]
     },
     "execution_count": 8,
     "metadata": {},
     "output_type": "execute_result"
    }
   ],
   "source": [
    "weather"
   ]
  },
  {
   "cell_type": "markdown",
   "id": "84e8905d",
   "metadata": {},
   "source": [
    "##### Next is to fill some of the valid columns that still have null values even though they passed the <0.05 test. Though in this case there arent such columns, as shown below."
   ]
  },
  {
   "cell_type": "code",
   "execution_count": 9,
   "id": "8072d07d",
   "metadata": {},
   "outputs": [],
   "source": [
    "weather = weather.ffill()"
   ]
  },
  {
   "cell_type": "code",
   "execution_count": 10,
   "id": "38009628",
   "metadata": {
    "scrolled": true
   },
   "outputs": [
    {
     "data": {
      "text/plain": [
       "STATION            0\n",
       "NAME               0\n",
       "LATITUDE           0\n",
       "LONGITUDE          0\n",
       "ELEVATION          0\n",
       "TAVG               0\n",
       "TAVG_ATTRIBUTES    0\n",
       "dtype: int64"
      ]
     },
     "execution_count": 10,
     "metadata": {},
     "output_type": "execute_result"
    }
   ],
   "source": [
    "weather.apply(pd.isnull).sum()"
   ]
  },
  {
   "cell_type": "markdown",
   "id": "7f701fba",
   "metadata": {},
   "source": [
    "##### Next is to make sure that the columns are in the correct datatype, this is also essential in ML predictions, In our case all the columns are in good condition as it can be seen below.\n",
    "* object - strings\n",
    "* float64 - floating digits, 64 bits\n",
    "* int64 - integer digits, 64 bits\n",
    "* datetime64 - date and time, 64 bits\n"
   ]
  },
  {
   "cell_type": "code",
   "execution_count": 11,
   "id": "86aaddbd",
   "metadata": {},
   "outputs": [
    {
     "data": {
      "text/plain": [
       "STATION             object\n",
       "NAME                object\n",
       "LATITUDE           float64\n",
       "LONGITUDE          float64\n",
       "ELEVATION          float64\n",
       "TAVG                 int64\n",
       "TAVG_ATTRIBUTES     object\n",
       "dtype: object"
      ]
     },
     "execution_count": 11,
     "metadata": {},
     "output_type": "execute_result"
    }
   ],
   "source": [
    "weather.dtypes"
   ]
  },
  {
   "cell_type": "markdown",
   "id": "33261a53",
   "metadata": {},
   "source": [
    "##### Without forgetting forgetting the index column, lets check if it is also in its correct data type."
   ]
  },
  {
   "cell_type": "code",
   "execution_count": 12,
   "id": "230276d8",
   "metadata": {},
   "outputs": [
    {
     "data": {
      "text/plain": [
       "Index(['1987-01-01', '1987-01-02', '1987-01-03', '1987-01-04', '1987-01-05',\n",
       "       '1987-01-06', '1987-01-07', '1987-01-08', '1987-01-09', '1987-01-10',\n",
       "       ...\n",
       "       '2023-06-02', '2023-06-03', '2023-06-04', '2023-06-05', '2023-06-06',\n",
       "       '2023-06-07', '2023-06-08', '2023-06-09', '2023-06-10', '2023-06-11'],\n",
       "      dtype='object', name='DATE', length=12161)"
      ]
     },
     "execution_count": 12,
     "metadata": {},
     "output_type": "execute_result"
    }
   ],
   "source": [
    "weather.index"
   ]
  },
  {
   "cell_type": "markdown",
   "id": "6c82adee",
   "metadata": {},
   "source": [
    "##### Its datatype is object, while the column is a date column, so let us change it to its correct datatype."
   ]
  },
  {
   "cell_type": "code",
   "execution_count": null,
   "id": "636f9a70",
   "metadata": {},
   "outputs": [],
   "source": [
    "weather.index = pd.to_datetime(weather.index)"
   ]
  },
  {
   "cell_type": "code",
   "execution_count": null,
   "id": "0d8fb933",
   "metadata": {},
   "outputs": [
    {
     "data": {
      "text/plain": [
       "DatetimeIndex(['1987-01-01', '1987-01-02', '1987-01-03', '1987-01-04',\n",
       "               '1987-01-05', '1987-01-06', '1987-01-07', '1987-01-08',\n",
       "               '1987-01-09', '1987-01-10',\n",
       "               ...\n",
       "               '2023-06-02', '2023-06-03', '2023-06-04', '2023-06-05',\n",
       "               '2023-06-06', '2023-06-07', '2023-06-08', '2023-06-09',\n",
       "               '2023-06-10', '2023-06-11'],\n",
       "              dtype='datetime64[ns]', name='DATE', length=12161, freq=None)"
      ]
     },
     "execution_count": 18,
     "metadata": {},
     "output_type": "execute_result"
    }
   ],
   "source": [
    "weather.index"
   ]
  },
  {
   "cell_type": "markdown",
   "id": "0129267f",
   "metadata": {},
   "source": [
    "##### We can check the dataset one last time before going to the next step, and here the index column can come in handy"
   ]
  },
  {
   "cell_type": "code",
   "execution_count": null,
   "id": "a77e814e",
   "metadata": {},
   "outputs": [
    {
     "data": {
      "text/plain": [
       "1987    363\n",
       "1988    363\n",
       "1989    353\n",
       "1990    333\n",
       "1991    305\n",
       "1992    238\n",
       "1993    196\n",
       "1994    289\n",
       "1995    347\n",
       "1996    350\n",
       "1997    341\n",
       "1998    319\n",
       "1999    299\n",
       "2000    243\n",
       "2001    258\n",
       "2002    309\n",
       "2003    335\n",
       "2004    334\n",
       "2005    347\n",
       "2006    356\n",
       "2007    364\n",
       "2008    349\n",
       "2009    358\n",
       "2010    290\n",
       "2011    360\n",
       "2012    365\n",
       "2013    363\n",
       "2014    361\n",
       "2015    361\n",
       "2016    364\n",
       "2017    365\n",
       "2018    363\n",
       "2019    365\n",
       "2020    366\n",
       "2021    362\n",
       "2022    365\n",
       "2023    162\n",
       "Name: DATE, dtype: int64"
      ]
     },
     "execution_count": 19,
     "metadata": {},
     "output_type": "execute_result"
    }
   ],
   "source": [
    "weather.index.year.value_counts().sort_index()"
   ]
  },
  {
   "cell_type": "markdown",
   "id": "5fd77d77",
   "metadata": {},
   "source": [
    "##### As the last process in checking for gaps in data, let us plot a line plot or a time series plot for a certain column."
   ]
  },
  {
   "cell_type": "code",
   "execution_count": null,
   "id": "cee006f8",
   "metadata": {},
   "outputs": [
    {
     "data": {
      "text/plain": [
       "<Axes: xlabel='DATE'>"
      ]
     },
     "execution_count": 22,
     "metadata": {},
     "output_type": "execute_result"
    },
    {
     "data": {
      "image/png": "[encoded data removed]",
      "text/plain": [
       "<Figure size 640x480 with 1 Axes>"
      ]
     },
     "metadata": {},
     "output_type": "display_data"
    }
   ],
   "source": [
    "weather[\"TAVG\"].plot()"
   ]
  },
  {
   "cell_type": "markdown",
   "id": "d6506c0e",
   "metadata": {},
   "source": [
    "### One thing to point out before heading to ML part is, I have used a local dataset from the year 1987 to june 2023 and since most columns had approximately 50% null data the columns were ommited during data cleaning and there is only one attribute left to predict and that is Avarage temperature.\n",
    "\n",
    "### But changing a dataset or changing the time range for the dataset can lead to some columns coming back to life and hence make predictions for alot more variables."
   ]
  },
  {
   "cell_type": "markdown",
   "id": "f4db384d",
   "metadata": {},
   "source": [
    "##### In accordance to our dataset we are going to predict future's avarage temperature, And I am going to do so by first making the avarage temperature column the Target Column."
   ]
  },
  {
   "cell_type": "code",
   "execution_count": null,
   "id": "ec70fd9a",
   "metadata": {},
   "outputs": [],
   "source": [
    "weather[\"target\"] = weather.shift(-1)[\"TAVG\"]"
   ]
  },
  {
   "cell_type": "code",
   "execution_count": null,
   "id": "ca7c1c2b",
   "metadata": {},
   "outputs": [
    {
     "ename": "NameError",
     "evalue": "name 'weather' is not defined",
     "output_type": "error",
     "traceback": [
      "\u001b[0;31m---------------------------------------------------------------------------\u001b[0m",
      "\u001b[0;31mNameError\u001b[0m                                 Traceback (most recent call last)",
      "Cell \u001b[0;32mIn[1], line 1\u001b[0m\n\u001b[0;32m----> 1\u001b[0m weather\n",
      "\u001b[0;31mNameError\u001b[0m: name 'weather' is not defined"
     ]
    }
   ],
   "source": [
    "weather"
   ]
  },
  {
   "cell_type": "code",
   "execution_count": null,
   "id": "7830426e",
   "metadata": {},
   "outputs": [],
   "source": []
  }
 ],
 "metadata": {
  "kernelspec": {
   "display_name": "Python 3 (ipykernel)",
   "language": "python",
   "name": "python3"
  },
  "language_info": {
   "codemirror_mode": {
    "name": "ipython",
    "version": 3
   },
   "file_extension": ".py",
   "mimetype": "text/x-python",
   "name": "python",
   "nbconvert_exporter": "python",
   "pygments_lexer": "ipython3",
   "version": "3.10.9"
  }
 },
 "nbformat": 4,
 "nbformat_minor": 5
}
